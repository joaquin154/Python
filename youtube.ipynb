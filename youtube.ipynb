{
 "cells": [
  {
   "cell_type": "code",
   "execution_count": 4,
   "metadata": {},
   "outputs": [],
   "source": [
    "import pandas as pd\n",
    "# definir path del fichero\n",
    "#fpath='/Users/jperez/Downloads/'\n",
    "fichero='historial-de-reproducciones.json'"
   ]
  },
  {
   "cell_type": "code",
   "execution_count": 5,
   "metadata": {},
   "outputs": [],
   "source": [
    "# crear un dataframe desde el fichero. Un dataframe es un objeto parecido a una tabla de una base de datos\n",
    "df =pd.read_json(fichero)"
   ]
  },
  {
   "cell_type": "code",
   "execution_count": 6,
   "metadata": {},
   "outputs": [
    {
     "data": {
      "text/html": [
       "<div>\n",
       "<style scoped>\n",
       "    .dataframe tbody tr th:only-of-type {\n",
       "        vertical-align: middle;\n",
       "    }\n",
       "\n",
       "    .dataframe tbody tr th {\n",
       "        vertical-align: top;\n",
       "    }\n",
       "\n",
       "    .dataframe thead th {\n",
       "        text-align: right;\n",
       "    }\n",
       "</style>\n",
       "<table border=\"1\" class=\"dataframe\">\n",
       "  <thead>\n",
       "    <tr style=\"text-align: right;\">\n",
       "      <th></th>\n",
       "      <th>header</th>\n",
       "      <th>title</th>\n",
       "      <th>titleUrl</th>\n",
       "      <th>subtitles</th>\n",
       "      <th>time</th>\n",
       "      <th>products</th>\n",
       "      <th>details</th>\n",
       "    </tr>\n",
       "  </thead>\n",
       "  <tbody>\n",
       "    <tr>\n",
       "      <th>0</th>\n",
       "      <td>YouTube</td>\n",
       "      <td>Has visto EX-GIMNASTA PROFESIONAL SALVA SU CAR...</td>\n",
       "      <td>https://www.youtube.com/watch?v=2LWcJzTa4-M</td>\n",
       "      <td>[{'name': 'The Wild Project', 'url': 'https://...</td>\n",
       "      <td>2021-02-27T12:49:33.351Z</td>\n",
       "      <td>[YouTube]</td>\n",
       "      <td>NaN</td>\n",
       "    </tr>\n",
       "    <tr>\n",
       "      <th>1</th>\n",
       "      <td>YouTube</td>\n",
       "      <td>Has visto Yuyee y los traidores</td>\n",
       "      <td>https://www.youtube.com/watch?v=MyAjLwURj5I</td>\n",
       "      <td>[{'name': 'FRANK CUESTA - CANAL YOUTUBE', 'url...</td>\n",
       "      <td>2021-02-26T23:47:18.913Z</td>\n",
       "      <td>[YouTube]</td>\n",
       "      <td>NaN</td>\n",
       "    </tr>\n",
       "    <tr>\n",
       "      <th>2</th>\n",
       "      <td>YouTube</td>\n",
       "      <td>Has visto Santi...hoy , ayer y siempre</td>\n",
       "      <td>https://www.youtube.com/watch?v=vzu270YVZ1M</td>\n",
       "      <td>[{'name': 'FRANK CUESTA - CANAL YOUTUBE', 'url...</td>\n",
       "      <td>2021-02-26T23:38:23.539Z</td>\n",
       "      <td>[YouTube]</td>\n",
       "      <td>NaN</td>\n",
       "    </tr>\n",
       "    <tr>\n",
       "      <th>3</th>\n",
       "      <td>YouTube</td>\n",
       "      <td>Has visto Yuyee ya esta currando (trabajando)</td>\n",
       "      <td>https://www.youtube.com/watch?v=CG3tvoLwHsk</td>\n",
       "      <td>[{'name': 'FRANK CUESTA - CANAL YOUTUBE', 'url...</td>\n",
       "      <td>2021-02-26T23:27:19.202Z</td>\n",
       "      <td>[YouTube]</td>\n",
       "      <td>NaN</td>\n",
       "    </tr>\n",
       "    <tr>\n",
       "      <th>4</th>\n",
       "      <td>YouTube</td>\n",
       "      <td>Has visto Yuyee vuelve a liberar animales</td>\n",
       "      <td>https://www.youtube.com/watch?v=0QVKmjN8TmU</td>\n",
       "      <td>[{'name': 'FRANK CUESTA - CANAL YOUTUBE', 'url...</td>\n",
       "      <td>2021-02-26T23:19:02.243Z</td>\n",
       "      <td>[YouTube]</td>\n",
       "      <td>NaN</td>\n",
       "    </tr>\n",
       "  </tbody>\n",
       "</table>\n",
       "</div>"
      ],
      "text/plain": [
       "    header                                              title  \\\n",
       "0  YouTube  Has visto EX-GIMNASTA PROFESIONAL SALVA SU CAR...   \n",
       "1  YouTube                    Has visto Yuyee y los traidores   \n",
       "2  YouTube             Has visto Santi...hoy , ayer y siempre   \n",
       "3  YouTube      Has visto Yuyee ya esta currando (trabajando)   \n",
       "4  YouTube          Has visto Yuyee vuelve a liberar animales   \n",
       "\n",
       "                                      titleUrl  \\\n",
       "0  https://www.youtube.com/watch?v=2LWcJzTa4-M   \n",
       "1  https://www.youtube.com/watch?v=MyAjLwURj5I   \n",
       "2  https://www.youtube.com/watch?v=vzu270YVZ1M   \n",
       "3  https://www.youtube.com/watch?v=CG3tvoLwHsk   \n",
       "4  https://www.youtube.com/watch?v=0QVKmjN8TmU   \n",
       "\n",
       "                                           subtitles  \\\n",
       "0  [{'name': 'The Wild Project', 'url': 'https://...   \n",
       "1  [{'name': 'FRANK CUESTA - CANAL YOUTUBE', 'url...   \n",
       "2  [{'name': 'FRANK CUESTA - CANAL YOUTUBE', 'url...   \n",
       "3  [{'name': 'FRANK CUESTA - CANAL YOUTUBE', 'url...   \n",
       "4  [{'name': 'FRANK CUESTA - CANAL YOUTUBE', 'url...   \n",
       "\n",
       "                       time   products details  \n",
       "0  2021-02-27T12:49:33.351Z  [YouTube]     NaN  \n",
       "1  2021-02-26T23:47:18.913Z  [YouTube]     NaN  \n",
       "2  2021-02-26T23:38:23.539Z  [YouTube]     NaN  \n",
       "3  2021-02-26T23:27:19.202Z  [YouTube]     NaN  \n",
       "4  2021-02-26T23:19:02.243Z  [YouTube]     NaN  "
      ]
     },
     "execution_count": 6,
     "metadata": {},
     "output_type": "execute_result"
    }
   ],
   "source": [
    "# inspeccionar contenidos del dataframe\n",
    "df.head()"
   ]
  },
  {
   "cell_type": "code",
   "execution_count": 7,
   "metadata": {},
   "outputs": [],
   "source": [
    "# convertimos a tiempo la columna time\n",
    "df['date']=pd.to_datetime(df['time'])"
   ]
  },
  {
   "cell_type": "code",
   "execution_count": 8,
   "metadata": {},
   "outputs": [
    {
     "name": "stdout",
     "output_type": "stream",
     "text": [
      "<class 'pandas.core.frame.DataFrame'>\n",
      "RangeIndex: 23174 entries, 0 to 23173\n",
      "Data columns (total 8 columns):\n",
      " #   Column     Non-Null Count  Dtype              \n",
      "---  ------     --------------  -----              \n",
      " 0   header     23174 non-null  object             \n",
      " 1   title      23174 non-null  object             \n",
      " 2   titleUrl   22626 non-null  object             \n",
      " 3   subtitles  20980 non-null  object             \n",
      " 4   time       23174 non-null  object             \n",
      " 5   products   23174 non-null  object             \n",
      " 6   details    19 non-null     object             \n",
      " 7   date       23174 non-null  datetime64[ns, UTC]\n",
      "dtypes: datetime64[ns, UTC](1), object(7)\n",
      "memory usage: 1.4+ MB\n"
     ]
    },
    {
     "data": {
      "text/html": [
       "<div>\n",
       "<style scoped>\n",
       "    .dataframe tbody tr th:only-of-type {\n",
       "        vertical-align: middle;\n",
       "    }\n",
       "\n",
       "    .dataframe tbody tr th {\n",
       "        vertical-align: top;\n",
       "    }\n",
       "\n",
       "    .dataframe thead th {\n",
       "        text-align: right;\n",
       "    }\n",
       "</style>\n",
       "<table border=\"1\" class=\"dataframe\">\n",
       "  <thead>\n",
       "    <tr style=\"text-align: right;\">\n",
       "      <th></th>\n",
       "      <th>header</th>\n",
       "      <th>title</th>\n",
       "      <th>titleUrl</th>\n",
       "      <th>subtitles</th>\n",
       "      <th>time</th>\n",
       "      <th>products</th>\n",
       "      <th>details</th>\n",
       "      <th>date</th>\n",
       "    </tr>\n",
       "  </thead>\n",
       "  <tbody>\n",
       "    <tr>\n",
       "      <th>0</th>\n",
       "      <td>YouTube</td>\n",
       "      <td>Has visto EX-GIMNASTA PROFESIONAL SALVA SU CAR...</td>\n",
       "      <td>https://www.youtube.com/watch?v=2LWcJzTa4-M</td>\n",
       "      <td>[{'name': 'The Wild Project', 'url': 'https://...</td>\n",
       "      <td>2021-02-27T12:49:33.351Z</td>\n",
       "      <td>[YouTube]</td>\n",
       "      <td>NaN</td>\n",
       "      <td>2021-02-27 12:49:33.351000+00:00</td>\n",
       "    </tr>\n",
       "    <tr>\n",
       "      <th>1</th>\n",
       "      <td>YouTube</td>\n",
       "      <td>Has visto Yuyee y los traidores</td>\n",
       "      <td>https://www.youtube.com/watch?v=MyAjLwURj5I</td>\n",
       "      <td>[{'name': 'FRANK CUESTA - CANAL YOUTUBE', 'url...</td>\n",
       "      <td>2021-02-26T23:47:18.913Z</td>\n",
       "      <td>[YouTube]</td>\n",
       "      <td>NaN</td>\n",
       "      <td>2021-02-26 23:47:18.913000+00:00</td>\n",
       "    </tr>\n",
       "    <tr>\n",
       "      <th>2</th>\n",
       "      <td>YouTube</td>\n",
       "      <td>Has visto Santi...hoy , ayer y siempre</td>\n",
       "      <td>https://www.youtube.com/watch?v=vzu270YVZ1M</td>\n",
       "      <td>[{'name': 'FRANK CUESTA - CANAL YOUTUBE', 'url...</td>\n",
       "      <td>2021-02-26T23:38:23.539Z</td>\n",
       "      <td>[YouTube]</td>\n",
       "      <td>NaN</td>\n",
       "      <td>2021-02-26 23:38:23.539000+00:00</td>\n",
       "    </tr>\n",
       "    <tr>\n",
       "      <th>3</th>\n",
       "      <td>YouTube</td>\n",
       "      <td>Has visto Yuyee ya esta currando (trabajando)</td>\n",
       "      <td>https://www.youtube.com/watch?v=CG3tvoLwHsk</td>\n",
       "      <td>[{'name': 'FRANK CUESTA - CANAL YOUTUBE', 'url...</td>\n",
       "      <td>2021-02-26T23:27:19.202Z</td>\n",
       "      <td>[YouTube]</td>\n",
       "      <td>NaN</td>\n",
       "      <td>2021-02-26 23:27:19.202000+00:00</td>\n",
       "    </tr>\n",
       "    <tr>\n",
       "      <th>4</th>\n",
       "      <td>YouTube</td>\n",
       "      <td>Has visto Yuyee vuelve a liberar animales</td>\n",
       "      <td>https://www.youtube.com/watch?v=0QVKmjN8TmU</td>\n",
       "      <td>[{'name': 'FRANK CUESTA - CANAL YOUTUBE', 'url...</td>\n",
       "      <td>2021-02-26T23:19:02.243Z</td>\n",
       "      <td>[YouTube]</td>\n",
       "      <td>NaN</td>\n",
       "      <td>2021-02-26 23:19:02.243000+00:00</td>\n",
       "    </tr>\n",
       "  </tbody>\n",
       "</table>\n",
       "</div>"
      ],
      "text/plain": [
       "    header                                              title  \\\n",
       "0  YouTube  Has visto EX-GIMNASTA PROFESIONAL SALVA SU CAR...   \n",
       "1  YouTube                    Has visto Yuyee y los traidores   \n",
       "2  YouTube             Has visto Santi...hoy , ayer y siempre   \n",
       "3  YouTube      Has visto Yuyee ya esta currando (trabajando)   \n",
       "4  YouTube          Has visto Yuyee vuelve a liberar animales   \n",
       "\n",
       "                                      titleUrl  \\\n",
       "0  https://www.youtube.com/watch?v=2LWcJzTa4-M   \n",
       "1  https://www.youtube.com/watch?v=MyAjLwURj5I   \n",
       "2  https://www.youtube.com/watch?v=vzu270YVZ1M   \n",
       "3  https://www.youtube.com/watch?v=CG3tvoLwHsk   \n",
       "4  https://www.youtube.com/watch?v=0QVKmjN8TmU   \n",
       "\n",
       "                                           subtitles  \\\n",
       "0  [{'name': 'The Wild Project', 'url': 'https://...   \n",
       "1  [{'name': 'FRANK CUESTA - CANAL YOUTUBE', 'url...   \n",
       "2  [{'name': 'FRANK CUESTA - CANAL YOUTUBE', 'url...   \n",
       "3  [{'name': 'FRANK CUESTA - CANAL YOUTUBE', 'url...   \n",
       "4  [{'name': 'FRANK CUESTA - CANAL YOUTUBE', 'url...   \n",
       "\n",
       "                       time   products details  \\\n",
       "0  2021-02-27T12:49:33.351Z  [YouTube]     NaN   \n",
       "1  2021-02-26T23:47:18.913Z  [YouTube]     NaN   \n",
       "2  2021-02-26T23:38:23.539Z  [YouTube]     NaN   \n",
       "3  2021-02-26T23:27:19.202Z  [YouTube]     NaN   \n",
       "4  2021-02-26T23:19:02.243Z  [YouTube]     NaN   \n",
       "\n",
       "                              date  \n",
       "0 2021-02-27 12:49:33.351000+00:00  \n",
       "1 2021-02-26 23:47:18.913000+00:00  \n",
       "2 2021-02-26 23:38:23.539000+00:00  \n",
       "3 2021-02-26 23:27:19.202000+00:00  \n",
       "4 2021-02-26 23:19:02.243000+00:00  "
      ]
     },
     "execution_count": 8,
     "metadata": {},
     "output_type": "execute_result"
    }
   ],
   "source": [
    "# inspeccionar un dataframe , columnas , tipo de las columnas y cuantas entradas (filas) tiene\n",
    "df.info()\n",
    "df.head()"
   ]
  },
  {
   "cell_type": "code",
   "execution_count": 9,
   "metadata": {},
   "outputs": [
    {
     "name": "stderr",
     "output_type": "stream",
     "text": [
      "Matplotlib is building the font cache; this may take a moment.\n"
     ]
    },
    {
     "data": {
      "image/png": "[encoded data removed]",
      "text/plain": [
       "<Figure size 864x432 with 1 Axes>"
      ]
     },
     "metadata": {
      "needs_background": "light"
     },
     "output_type": "display_data"
    }
   ],
   "source": [
    "# crear un historgrama con el numero de videos vistos a lo largo tiempo determinado\n",
    "# 1. agrupamos los datos con el comando groupby en rangos de 1 mes\n",
    "# 2. contamos el numero de objetos en cada agrupado \n",
    "# 3. hacemos un plot de tipo bar (histograma)\n",
    "import matplotlib.pyplot as plt\n",
    "f , ax = plt.subplots(figsize=(12,6))\n",
    "\n",
    "# seleccionar el anyo a desplegar\n",
    "year=2019\n",
    "subset=df.loc[df['date'].dt.year==year]\n",
    "\n",
    "# mostrarlo (seleccionamos una columna , para que no se muestren todas)\n",
    "subset['title'] \\\n",
    "    .groupby(df['date'].dt.hour) \\\n",
    "    .count().plot(kind=\"bar\",ax=ax) \n",
    "\n",
    "plt.title('Numero de videos vistos por mes en el anyo : %d' %year);\n",
    "plt.xlabel('Mes');\n",
    "plt.ylabel('# de Videos');"
   ]
  },
  {
   "cell_type": "code",
   "execution_count": 81,
   "metadata": {},
   "outputs": [
    {
     "data": {
      "text/plain": [
       "<BarContainer object of 24 artists>"
      ]
     },
     "execution_count": 81,
     "metadata": {},
     "output_type": "execute_result"
    },
    {
     "data": {
      "image/png": "[encoded data removed]",
      "text/plain": [
       "<Figure size 1440x720 with 1 Axes>"
      ]
     },
     "metadata": {
      "needs_background": "light"
     },
     "output_type": "display_data"
    }
   ],
   "source": [
    "# crear un historgrama con el numero de videos vistos a lo largo tiempo determinado\n",
    "# 1. agrupamos los datos con el comando groupby en rangos de 1 mes\n",
    "# 2. contamos el numero de objetos en cada agrupado \n",
    "# 3. hacemos un plot de tipo bar (histograma)\n",
    "import matplotlib.pyplot as plt\n",
    "f , ax = plt.subplots(figsize=(20,10))\n",
    "\n",
    "youtube_hourly_ungrouped = df['date'].dt.hour\n",
    "youtube_hourly_grouped = youtube_hourly_ungrouped.groupby(youtube_hourly_ungrouped).count()\n",
    "\n",
    "plt.title('Número de videos vistos por hora', fontsize=25)\n",
    "plt.xlabel('Hora', fontsize=20)\n",
    "plt.ylabel('# de Vídeos', fontsize=20)\n",
    "plt.xticks(youtube_hourly_grouped.index, fontsize=15)\n",
    "plt.bar(youtube_hourly_grouped.index, youtube_hourly_grouped)\n"
   ]
  },
  {
   "cell_type": "code",
   "execution_count": null,
   "metadata": {},
   "outputs": [],
   "source": []
  }
 ],
 "metadata": {
  "kernelspec": {
   "display_name": "Python 3",
   "language": "python",
   "name": "python3"
  },
  "language_info": {
   "codemirror_mode": {
    "name": "ipython",
    "version": 3
   },
   "file_extension": ".py",
   "mimetype": "text/x-python",
   "name": "python",
   "nbconvert_exporter": "python",
   "pygments_lexer": "ipython3",
   "version": "3.9.1+"
  }
 },
 "nbformat": 4,
 "nbformat_minor": 4
}
